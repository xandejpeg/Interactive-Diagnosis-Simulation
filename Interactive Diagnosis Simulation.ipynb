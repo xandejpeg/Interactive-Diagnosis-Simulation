{
  "cells": [
    {
      "cell_type": "code",
      "source": [
        "!pip install scikit-fuzzy\n"
      ],
      "metadata": {
        "id": "9YN0UWZIy6uA",
        "outputId": "f357945b-bd93-4650-e66c-e742e3ffb594",
        "colab": {
          "base_uri": "https://localhost:8080/"
        }
      },
      "execution_count": 1,
      "outputs": [
        {
          "output_type": "stream",
          "name": "stdout",
          "text": [
            "Collecting scikit-fuzzy\n",
            "  Downloading scikit-fuzzy-0.4.2.tar.gz (993 kB)\n",
            "\u001b[?25l     \u001b[90m━━━━━━━━━━━━━━━━━━━━━━━━━━━━━━━━━━━━━━━━\u001b[0m \u001b[32m0.0/994.0 kB\u001b[0m \u001b[31m?\u001b[0m eta \u001b[36m-:--:--\u001b[0m\r\u001b[2K     \u001b[91m━━━━\u001b[0m\u001b[91m╸\u001b[0m\u001b[90m━━━━━━━━━━━━━━━━━━━━━━━━━━━━━━━━━━━\u001b[0m \u001b[32m112.6/994.0 kB\u001b[0m \u001b[31m3.4 MB/s\u001b[0m eta \u001b[36m0:00:01\u001b[0m\r\u001b[2K     \u001b[91m━━━━━━━━━━━━━━━━━━━━━━━━━━━━━━━━━━━━━━━\u001b[0m\u001b[91m╸\u001b[0m \u001b[32m993.3/994.0 kB\u001b[0m \u001b[31m15.3 MB/s\u001b[0m eta \u001b[36m0:00:01\u001b[0m\r\u001b[2K     \u001b[90m━━━━━━━━━━━━━━━━━━━━━━━━━━━━━━━━━━━━━━━━\u001b[0m \u001b[32m994.0/994.0 kB\u001b[0m \u001b[31m12.5 MB/s\u001b[0m eta \u001b[36m0:00:00\u001b[0m\n",
            "\u001b[?25h  Preparing metadata (setup.py) ... \u001b[?25l\u001b[?25hdone\n",
            "Requirement already satisfied: numpy>=1.6.0 in /usr/local/lib/python3.10/dist-packages (from scikit-fuzzy) (1.23.5)\n",
            "Requirement already satisfied: scipy>=0.9.0 in /usr/local/lib/python3.10/dist-packages (from scikit-fuzzy) (1.11.3)\n",
            "Requirement already satisfied: networkx>=1.9.0 in /usr/local/lib/python3.10/dist-packages (from scikit-fuzzy) (3.2)\n",
            "Building wheels for collected packages: scikit-fuzzy\n",
            "  Building wheel for scikit-fuzzy (setup.py) ... \u001b[?25l\u001b[?25hdone\n",
            "  Created wheel for scikit-fuzzy: filename=scikit_fuzzy-0.4.2-py3-none-any.whl size=894079 sha256=50e8848eb04906799139976d7dd05673c4e3dfd06d2d25dfcd3d8bb7693d3cbc\n",
            "  Stored in directory: /root/.cache/pip/wheels/4f/86/1b/dfd97134a2c8313e519bcebd95d3fedc7be7944db022094bc8\n",
            "Successfully built scikit-fuzzy\n",
            "Installing collected packages: scikit-fuzzy\n",
            "Successfully installed scikit-fuzzy-0.4.2\n"
          ]
        }
      ]
    },
    {
      "cell_type": "code",
      "source": [
        "import numpy as np\n",
        "import skfuzzy as fuzz\n",
        "from skfuzzy import control as ctrl\n",
        "import matplotlib.pyplot as plt\n"
      ],
      "metadata": {
        "id": "66kr6-Z0zA7b"
      },
      "execution_count": 2,
      "outputs": []
    },
    {
      "cell_type": "code",
      "source": [
        "# Entradas\n",
        "febre = ctrl.Antecedent(np.arange(36, 41.1, 0.1), 'febre')\n",
        "dor_cabeca = ctrl.Antecedent(np.arange(0, 10.1, 1), 'dor_cabeca')  # 0: Nenhuma, 10: Máxima\n",
        "tosse = ctrl.Antecedent(np.arange(0, 10.1, 1), 'tosse')  # 0: Nenhuma, 10: Persistente\n",
        "\n",
        "# Saída\n",
        "diagnostico = ctrl.Consequent(np.arange(0, 8.1, 1), 'diagnostico')  # 8 possíveis diagnósticos\n",
        "\n",
        "# Definindo as funções de pertinência para a febre\n",
        "febre['baixa'] = fuzz.trimf(febre.universe, [36, 36.5, 37.5])\n",
        "febre['media'] = fuzz.trimf(febre.universe, [37, 37.5, 38.5])\n",
        "febre['alta'] = fuzz.trimf(febre.universe, [38, 38.5, 41])\n",
        "\n",
        "# Definindo as funções de pertinência para a dor de cabeça\n",
        "dor_cabeca['leve'] = fuzz.trimf(dor_cabeca.universe, [0, 2, 4])\n",
        "dor_cabeca['moderada'] = fuzz.trimf(dor_cabeca.universe, [3, 5, 7])\n",
        "dor_cabeca['intensa'] = fuzz.trimf(dor_cabeca.universe, [6, 8, 10])\n",
        "\n",
        "# Definindo as funções de pertinência para a tosse\n",
        "tosse['ocasional'] = fuzz.trimf(tosse.universe, [0, 2, 4])\n",
        "tosse['frequente'] = fuzz.trimf(tosse.universe, [3, 5, 7])\n",
        "tosse['persistente'] = fuzz.trimf(tosse.universe, [6, 8, 10])\n",
        "\n",
        "\n"
      ],
      "metadata": {
        "id": "OmPCQydr5neC"
      },
      "execution_count": 3,
      "outputs": []
    },
    {
      "cell_type": "code",
      "source": [
        "# Definindo os conjuntos fuzzy para os diagnósticos\n",
        "diagnostico['desconhecido'] = fuzz.trimf(diagnostico.universe, [15, 17, 19])\n",
        "\n",
        "diagnostico['infeccoes_virais_leves'] = fuzz.trimf(diagnostico.universe, [0, 1, 2])\n",
        "diagnostico['resfriado_comum'] = fuzz.trimf(diagnostico.universe, [1, 2, 3])\n",
        "diagnostico['gripe'] = fuzz.trimf(diagnostico.universe, [2, 3, 4])\n",
        "diagnostico['sinusite'] = fuzz.trimf(diagnostico.universe, [3, 4, 5])\n",
        "diagnostico['bronquite'] = fuzz.trimf(diagnostico.universe, [4, 5, 6])\n",
        "diagnostico['pneumonia'] = fuzz.trimf(diagnostico.universe, [5, 6, 7])\n",
        "diagnostico['infeccao_bacteriana'] = fuzz.trimf(diagnostico.universe, [6, 7, 8])\n",
        "diagnostico['alergias_respiratorias'] = fuzz.trimf(diagnostico.universe, [7, 8, 9])\n"
      ],
      "metadata": {
        "id": "-phPbXIe5sCo"
      },
      "execution_count": 12,
      "outputs": []
    },
    {
      "cell_type": "code",
      "source": [
        "\n",
        "\n",
        "# Regras para Infecções Virais Leves\n",
        "regra1 = ctrl.Rule(febre['baixa'] & dor_cabeca['leve'] & tosse['ocasional'], diagnostico['infeccoes_virais_leves'])\n",
        "regra2 = ctrl.Rule(febre['baixa'] & dor_cabeca['leve'] & tosse['frequente'], diagnostico['infeccoes_virais_leves'])\n",
        "\n",
        "# Regras para Resfriado Comum\n",
        "regra3 = ctrl.Rule(febre['baixa'] & dor_cabeca['moderada'] & tosse['ocasional'], diagnostico['resfriado_comum'])\n",
        "regra4 = ctrl.Rule(febre['baixa'] & dor_cabeca['leve'] & tosse['persistente'], diagnostico['resfriado_comum'])\n",
        "\n",
        "# Regras para Gripe\n",
        "regra5 = ctrl.Rule(febre['media'] & dor_cabeca['moderada'] & tosse['frequente'], diagnostico['gripe'])\n",
        "regra6 = ctrl.Rule(febre['media'] & dor_cabeca['intensa'] & tosse['ocasional'], diagnostico['gripe'])\n",
        "\n",
        "# Regras para Sinusite\n",
        "regra7 = ctrl.Rule(febre['baixa'] & dor_cabeca['intensa'] & tosse['ocasional'], diagnostico['sinusite'])\n",
        "\n",
        "# Regras para Bronquite\n",
        "regra8 = ctrl.Rule(febre['media'] & dor_cabeca['leve'] & tosse['persistente'], diagnostico['bronquite'])\n",
        "regra9 = ctrl.Rule(febre['alta'] & dor_cabeca['leve'] & tosse['persistente'], diagnostico['bronquite'])\n",
        "\n",
        "# Regras para Pneumonia\n",
        "regra10 = ctrl.Rule(febre['alta'] & dor_cabeca['moderada'] & tosse['persistente'], diagnostico['pneumonia'])\n",
        "regra11 = ctrl.Rule(febre['alta'] & dor_cabeca['intensa'] & tosse['persistente'], diagnostico['pneumonia'])\n",
        "\n",
        "# Regras para Infecção Bacteriana\n",
        "regra12 = ctrl.Rule(febre['alta'] & dor_cabeca['intensa'] & tosse['frequente'], diagnostico['infeccao_bacteriana'])\n",
        "\n",
        "# Regras para Alergias Respiratórias\n",
        "regra13 = ctrl.Rule(febre['baixa'] & dor_cabeca['moderada'] & tosse['frequente'], diagnostico['alergias_respiratorias'])\n",
        "regra14 = ctrl.Rule(febre['media'] & dor_cabeca['leve'] & tosse['ocasional'], diagnostico['alergias_respiratorias'])\n",
        "\n",
        "\n",
        "\n",
        "# Agrupando todas as regras\n",
        "regras = [regra1, regra2, regra3, regra4, regra5, regra6, regra7, regra8, regra9, regra10, regra11, regra12, regra13, regra14,]\n",
        "\n",
        "\n",
        "\n",
        "\n"
      ],
      "metadata": {
        "id": "pPUK3Rcq5yrI"
      },
      "execution_count": 23,
      "outputs": []
    },
    {
      "cell_type": "code",
      "source": [
        "# Criando o sistema de controle fuzzy\n",
        "sistema_diagnostico = ctrl.ControlSystem(regras)\n",
        "\n",
        "# Criando a simulação do sistema de controle\n",
        "simulacao_diagnostico = ctrl.ControlSystemSimulation(sistema_diagnostico)\n"
      ],
      "metadata": {
        "id": "akTKt_5451Op"
      },
      "execution_count": 18,
      "outputs": []
    },
    {
      "cell_type": "code",
      "source": [
        "!pip install ipywidgets"
      ],
      "metadata": {
        "id": "HCjmDY6f6VEh"
      },
      "execution_count": 15,
      "outputs": []
    },
    {
      "cell_type": "code",
      "source": [
        "import ipywidgets as widgets\n",
        "from IPython.display import display, clear_output\n",
        "import numpy as np  # Importando a biblioteca numpy para verificar NaN\n",
        "\n",
        "# Criando os widgets para entrada de dados\n",
        "input_febre = widgets.FloatText(value=37.0, description='Febre (°C):', step=0.1)\n",
        "input_dor_cabeca = widgets.IntSlider(value=5, min=0, max=10, description='Dor de Cabeça:')\n",
        "input_tosse = widgets.IntSlider(value=5, min=0, max=10, description='Tosse:')\n",
        "\n",
        "# Botão para realizar a simulação\n",
        "btn_simular = widgets.Button(description=\"Simular Diagnóstico\")\n",
        "\n",
        "# Função para converter o valor float de diagnóstico em texto descritivo\n",
        "def interpretar_diagnostico(valor):\n",
        "    if np.isnan(valor):  # Verificando se o valor é NaN\n",
        "        return \"Diagnóstico Desconhecido\"\n",
        "    elif valor <= 2.5:\n",
        "        return \"Infecções Virais Leves\"\n",
        "    elif 2.5 < valor <= 4.5:\n",
        "        return \"Resfriado Comum\"\n",
        "    elif 4.5 < valor <= 6.5:\n",
        "        return \"Gripe\"\n",
        "    elif 6.5 < valor <= 8.5:\n",
        "        return \"Sinusite\"\n",
        "    elif 8.5 < valor <= 10.5:\n",
        "        return \"Bronquite\"\n",
        "    elif 10.5 < valor <= 12.5:\n",
        "        return \"Pneumonia\"\n",
        "    elif 12.5 < valor <= 14.5:\n",
        "        return \"Infecção Bacteriana\"\n",
        "    elif 14.5 < valor <= 16.5:\n",
        "        return \"Alergias Respiratórias\"\n",
        "    else:\n",
        "        return \"Diagnóstico não conclusivo\"\n",
        "\n",
        "# Função para realizar a simulação quando o botão for pressionado\n",
        "def on_simulate_clicked(b):\n",
        "    # Definindo as entradas para a simulação\n",
        "    simulacao_diagnostico.input['febre'] = input_febre.value\n",
        "    simulacao_diagnostico.input['dor_cabeca'] = input_dor_cabeca.value\n",
        "    simulacao_diagnostico.input['tosse'] = input_tosse.value\n",
        "\n",
        "    try:\n",
        "        # Computando o diagnóstico\n",
        "        simulacao_diagnostico.compute()\n",
        "        # Interpretando o resultado\n",
        "        diagnostico_texto = interpretar_diagnostico(simulacao_diagnostico.output['diagnostico'])\n",
        "    except ValueError:\n",
        "        diagnostico_texto = \"Diagnóstico Desconhecido\"\n",
        "\n",
        "    # Exibindo o resultado\n",
        "    clear_output(wait=True)\n",
        "    display(input_febre, input_dor_cabeca, input_tosse, btn_simular)\n",
        "    print(f\"Diagnóstico Sugerido: {diagnostico_texto}\")\n",
        "\n",
        "# Associando a função ao botão\n",
        "btn_simular.on_click(on_simulate_clicked)\n",
        "\n",
        "# Exibindo os widgets\n",
        "display(input_febre, input_dor_cabeca, input_tosse, btn_simular)\n"
      ],
      "metadata": {
        "colab": {
          "base_uri": "https://localhost:8080/",
          "height": 158,
          "referenced_widgets": [
            "5843493e3b2d46d796619a481ae2012d",
            "3981bce1543241d28f0f6ba747bf588d",
            "491506b8cf9f44e79a86de672e45c5bf",
            "65901be582964a27aa43191a5082a490",
            "09819e457e4a46618435c35e4f5ae9dd",
            "29ca08b5f4074e168e8f81b8ca272bd0",
            "73a208c28cc04c1695c489d0ab6741cb",
            "cbea589c5cf3448e80d5600cb229ad1d",
            "a293ad86f8cc4832a10045d7a7fc905c",
            "566266d2567143fba09d93979b2c2f3b",
            "9d0e3c64ee4040c1a9b4f14691a289ef",
            "99d43683d86b440b8560fc8624b87deb"
          ]
        },
        "id": "-BDUKByhDaJ8",
        "outputId": "a98fd3d3-88f3-4299-c101-b5b047c993d3"
      },
      "execution_count": 27,
      "outputs": [
        {
          "output_type": "display_data",
          "data": {
            "text/plain": [
              "FloatText(value=40.2, description='Febre (°C):', step=0.1)"
            ],
            "application/vnd.jupyter.widget-view+json": {
              "version_major": 2,
              "version_minor": 0,
              "model_id": "5843493e3b2d46d796619a481ae2012d"
            }
          },
          "metadata": {}
        },
        {
          "output_type": "display_data",
          "data": {
            "text/plain": [
              "IntSlider(value=8, description='Dor de Cabeça:', max=10)"
            ],
            "application/vnd.jupyter.widget-view+json": {
              "version_major": 2,
              "version_minor": 0,
              "model_id": "65901be582964a27aa43191a5082a490"
            }
          },
          "metadata": {}
        },
        {
          "output_type": "display_data",
          "data": {
            "text/plain": [
              "IntSlider(value=2, description='Tosse:', max=10)"
            ],
            "application/vnd.jupyter.widget-view+json": {
              "version_major": 2,
              "version_minor": 0,
              "model_id": "73a208c28cc04c1695c489d0ab6741cb"
            }
          },
          "metadata": {}
        },
        {
          "output_type": "display_data",
          "data": {
            "text/plain": [
              "Button(description='Simular Diagnóstico', style=ButtonStyle())"
            ],
            "application/vnd.jupyter.widget-view+json": {
              "version_major": 2,
              "version_minor": 0,
              "model_id": "566266d2567143fba09d93979b2c2f3b"
            }
          },
          "metadata": {}
        },
        {
          "output_type": "stream",
          "name": "stdout",
          "text": [
            "Diagnóstico Sugerido: Diagnóstico Desconhecido\n"
          ]
        }
      ]
    },
    {
      "cell_type": "markdown",
      "source": [
        "# Instruções:\n",
        "\n",
        "\n",
        "***Febre*** (°C):\n",
        "\n",
        "36°C a 37.5°C: Normal ou ligeiramente elevada.\n",
        "\n",
        "37°C a 38.5°C: Febre moderada.\n",
        "\n",
        "38°C a 41°C: Febre alta.\n",
        "\n",
        "***Dor de Cabeça*** (0-10):\n",
        "\n",
        "\n",
        "0 a 4: Leve.\n",
        "\n",
        "5 a 7: Moderada.\n",
        "\n",
        "8 a 10: Intensa.\n",
        "\n",
        "\n",
        "***Tosse*** (0-10)\n",
        "\n",
        "0 a 4: Ocasional.\n",
        "\n",
        "5 a 7: Frequente.\n",
        "\n",
        "8 a 10: Persistente.\n"
      ],
      "metadata": {
        "id": "92biE4VcFZZl"
      }
    }
  ],
  "metadata": {
    "colab": {
      "name": "Welcome To Colaboratory",
      "toc_visible": true,
      "provenance": []
    },
    "kernelspec": {
      "display_name": "Python 3",
      "name": "python3"
    },
    "widgets": {
      "application/vnd.jupyter.widget-state+json": {
        "5843493e3b2d46d796619a481ae2012d": {
          "model_module": "@jupyter-widgets/controls",
          "model_name": "FloatTextModel",
          "model_module_version": "1.5.0",
          "state": {
            "_dom_classes": [],
            "_model_module": "@jupyter-widgets/controls",
            "_model_module_version": "1.5.0",
            "_model_name": "FloatTextModel",
            "_view_count": null,
            "_view_module": "@jupyter-widgets/controls",
            "_view_module_version": "1.5.0",
            "_view_name": "FloatTextView",
            "continuous_update": false,
            "description": "Febre (°C):",
            "description_tooltip": null,
            "disabled": false,
            "layout": "IPY_MODEL_3981bce1543241d28f0f6ba747bf588d",
            "step": 0.1,
            "style": "IPY_MODEL_491506b8cf9f44e79a86de672e45c5bf",
            "value": 40.2
          }
        },
        "3981bce1543241d28f0f6ba747bf588d": {
          "model_module": "@jupyter-widgets/base",
          "model_name": "LayoutModel",
          "model_module_version": "1.2.0",
          "state": {
            "_model_module": "@jupyter-widgets/base",
            "_model_module_version": "1.2.0",
            "_model_name": "LayoutModel",
            "_view_count": null,
            "_view_module": "@jupyter-widgets/base",
            "_view_module_version": "1.2.0",
            "_view_name": "LayoutView",
            "align_content": null,
            "align_items": null,
            "align_self": null,
            "border": null,
            "bottom": null,
            "display": null,
            "flex": null,
            "flex_flow": null,
            "grid_area": null,
            "grid_auto_columns": null,
            "grid_auto_flow": null,
            "grid_auto_rows": null,
            "grid_column": null,
            "grid_gap": null,
            "grid_row": null,
            "grid_template_areas": null,
            "grid_template_columns": null,
            "grid_template_rows": null,
            "height": null,
            "justify_content": null,
            "justify_items": null,
            "left": null,
            "margin": null,
            "max_height": null,
            "max_width": null,
            "min_height": null,
            "min_width": null,
            "object_fit": null,
            "object_position": null,
            "order": null,
            "overflow": null,
            "overflow_x": null,
            "overflow_y": null,
            "padding": null,
            "right": null,
            "top": null,
            "visibility": null,
            "width": null
          }
        },
        "491506b8cf9f44e79a86de672e45c5bf": {
          "model_module": "@jupyter-widgets/controls",
          "model_name": "DescriptionStyleModel",
          "model_module_version": "1.5.0",
          "state": {
            "_model_module": "@jupyter-widgets/controls",
            "_model_module_version": "1.5.0",
            "_model_name": "DescriptionStyleModel",
            "_view_count": null,
            "_view_module": "@jupyter-widgets/base",
            "_view_module_version": "1.2.0",
            "_view_name": "StyleView",
            "description_width": ""
          }
        },
        "65901be582964a27aa43191a5082a490": {
          "model_module": "@jupyter-widgets/controls",
          "model_name": "IntSliderModel",
          "model_module_version": "1.5.0",
          "state": {
            "_dom_classes": [],
            "_model_module": "@jupyter-widgets/controls",
            "_model_module_version": "1.5.0",
            "_model_name": "IntSliderModel",
            "_view_count": null,
            "_view_module": "@jupyter-widgets/controls",
            "_view_module_version": "1.5.0",
            "_view_name": "IntSliderView",
            "continuous_update": true,
            "description": "Dor de Cabeça:",
            "description_tooltip": null,
            "disabled": false,
            "layout": "IPY_MODEL_09819e457e4a46618435c35e4f5ae9dd",
            "max": 10,
            "min": 0,
            "orientation": "horizontal",
            "readout": true,
            "readout_format": "d",
            "step": 1,
            "style": "IPY_MODEL_29ca08b5f4074e168e8f81b8ca272bd0",
            "value": 6
          }
        },
        "09819e457e4a46618435c35e4f5ae9dd": {
          "model_module": "@jupyter-widgets/base",
          "model_name": "LayoutModel",
          "model_module_version": "1.2.0",
          "state": {
            "_model_module": "@jupyter-widgets/base",
            "_model_module_version": "1.2.0",
            "_model_name": "LayoutModel",
            "_view_count": null,
            "_view_module": "@jupyter-widgets/base",
            "_view_module_version": "1.2.0",
            "_view_name": "LayoutView",
            "align_content": null,
            "align_items": null,
            "align_self": null,
            "border": null,
            "bottom": null,
            "display": null,
            "flex": null,
            "flex_flow": null,
            "grid_area": null,
            "grid_auto_columns": null,
            "grid_auto_flow": null,
            "grid_auto_rows": null,
            "grid_column": null,
            "grid_gap": null,
            "grid_row": null,
            "grid_template_areas": null,
            "grid_template_columns": null,
            "grid_template_rows": null,
            "height": null,
            "justify_content": null,
            "justify_items": null,
            "left": null,
            "margin": null,
            "max_height": null,
            "max_width": null,
            "min_height": null,
            "min_width": null,
            "object_fit": null,
            "object_position": null,
            "order": null,
            "overflow": null,
            "overflow_x": null,
            "overflow_y": null,
            "padding": null,
            "right": null,
            "top": null,
            "visibility": null,
            "width": null
          }
        },
        "29ca08b5f4074e168e8f81b8ca272bd0": {
          "model_module": "@jupyter-widgets/controls",
          "model_name": "SliderStyleModel",
          "model_module_version": "1.5.0",
          "state": {
            "_model_module": "@jupyter-widgets/controls",
            "_model_module_version": "1.5.0",
            "_model_name": "SliderStyleModel",
            "_view_count": null,
            "_view_module": "@jupyter-widgets/base",
            "_view_module_version": "1.2.0",
            "_view_name": "StyleView",
            "description_width": "",
            "handle_color": null
          }
        },
        "73a208c28cc04c1695c489d0ab6741cb": {
          "model_module": "@jupyter-widgets/controls",
          "model_name": "IntSliderModel",
          "model_module_version": "1.5.0",
          "state": {
            "_dom_classes": [],
            "_model_module": "@jupyter-widgets/controls",
            "_model_module_version": "1.5.0",
            "_model_name": "IntSliderModel",
            "_view_count": null,
            "_view_module": "@jupyter-widgets/controls",
            "_view_module_version": "1.5.0",
            "_view_name": "IntSliderView",
            "continuous_update": true,
            "description": "Tosse:",
            "description_tooltip": null,
            "disabled": false,
            "layout": "IPY_MODEL_cbea589c5cf3448e80d5600cb229ad1d",
            "max": 10,
            "min": 0,
            "orientation": "horizontal",
            "readout": true,
            "readout_format": "d",
            "step": 1,
            "style": "IPY_MODEL_a293ad86f8cc4832a10045d7a7fc905c",
            "value": 2
          }
        },
        "cbea589c5cf3448e80d5600cb229ad1d": {
          "model_module": "@jupyter-widgets/base",
          "model_name": "LayoutModel",
          "model_module_version": "1.2.0",
          "state": {
            "_model_module": "@jupyter-widgets/base",
            "_model_module_version": "1.2.0",
            "_model_name": "LayoutModel",
            "_view_count": null,
            "_view_module": "@jupyter-widgets/base",
            "_view_module_version": "1.2.0",
            "_view_name": "LayoutView",
            "align_content": null,
            "align_items": null,
            "align_self": null,
            "border": null,
            "bottom": null,
            "display": null,
            "flex": null,
            "flex_flow": null,
            "grid_area": null,
            "grid_auto_columns": null,
            "grid_auto_flow": null,
            "grid_auto_rows": null,
            "grid_column": null,
            "grid_gap": null,
            "grid_row": null,
            "grid_template_areas": null,
            "grid_template_columns": null,
            "grid_template_rows": null,
            "height": null,
            "justify_content": null,
            "justify_items": null,
            "left": null,
            "margin": null,
            "max_height": null,
            "max_width": null,
            "min_height": null,
            "min_width": null,
            "object_fit": null,
            "object_position": null,
            "order": null,
            "overflow": null,
            "overflow_x": null,
            "overflow_y": null,
            "padding": null,
            "right": null,
            "top": null,
            "visibility": null,
            "width": null
          }
        },
        "a293ad86f8cc4832a10045d7a7fc905c": {
          "model_module": "@jupyter-widgets/controls",
          "model_name": "SliderStyleModel",
          "model_module_version": "1.5.0",
          "state": {
            "_model_module": "@jupyter-widgets/controls",
            "_model_module_version": "1.5.0",
            "_model_name": "SliderStyleModel",
            "_view_count": null,
            "_view_module": "@jupyter-widgets/base",
            "_view_module_version": "1.2.0",
            "_view_name": "StyleView",
            "description_width": "",
            "handle_color": null
          }
        },
        "566266d2567143fba09d93979b2c2f3b": {
          "model_module": "@jupyter-widgets/controls",
          "model_name": "ButtonModel",
          "model_module_version": "1.5.0",
          "state": {
            "_dom_classes": [],
            "_model_module": "@jupyter-widgets/controls",
            "_model_module_version": "1.5.0",
            "_model_name": "ButtonModel",
            "_view_count": null,
            "_view_module": "@jupyter-widgets/controls",
            "_view_module_version": "1.5.0",
            "_view_name": "ButtonView",
            "button_style": "",
            "description": "Simular Diagnóstico",
            "disabled": false,
            "icon": "",
            "layout": "IPY_MODEL_9d0e3c64ee4040c1a9b4f14691a289ef",
            "style": "IPY_MODEL_99d43683d86b440b8560fc8624b87deb",
            "tooltip": ""
          }
        },
        "9d0e3c64ee4040c1a9b4f14691a289ef": {
          "model_module": "@jupyter-widgets/base",
          "model_name": "LayoutModel",
          "model_module_version": "1.2.0",
          "state": {
            "_model_module": "@jupyter-widgets/base",
            "_model_module_version": "1.2.0",
            "_model_name": "LayoutModel",
            "_view_count": null,
            "_view_module": "@jupyter-widgets/base",
            "_view_module_version": "1.2.0",
            "_view_name": "LayoutView",
            "align_content": null,
            "align_items": null,
            "align_self": null,
            "border": null,
            "bottom": null,
            "display": null,
            "flex": null,
            "flex_flow": null,
            "grid_area": null,
            "grid_auto_columns": null,
            "grid_auto_flow": null,
            "grid_auto_rows": null,
            "grid_column": null,
            "grid_gap": null,
            "grid_row": null,
            "grid_template_areas": null,
            "grid_template_columns": null,
            "grid_template_rows": null,
            "height": null,
            "justify_content": null,
            "justify_items": null,
            "left": null,
            "margin": null,
            "max_height": null,
            "max_width": null,
            "min_height": null,
            "min_width": null,
            "object_fit": null,
            "object_position": null,
            "order": null,
            "overflow": null,
            "overflow_x": null,
            "overflow_y": null,
            "padding": null,
            "right": null,
            "top": null,
            "visibility": null,
            "width": null
          }
        },
        "99d43683d86b440b8560fc8624b87deb": {
          "model_module": "@jupyter-widgets/controls",
          "model_name": "ButtonStyleModel",
          "model_module_version": "1.5.0",
          "state": {
            "_model_module": "@jupyter-widgets/controls",
            "_model_module_version": "1.5.0",
            "_model_name": "ButtonStyleModel",
            "_view_count": null,
            "_view_module": "@jupyter-widgets/base",
            "_view_module_version": "1.2.0",
            "_view_name": "StyleView",
            "button_color": null,
            "font_weight": ""
          }
        }
      }
    }
  },
  "nbformat": 4,
  "nbformat_minor": 0
}